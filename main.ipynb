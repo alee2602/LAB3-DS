{
 "cells": [
  {
   "cell_type": "markdown",
   "id": "d5b45e50",
   "metadata": {},
   "source": [
    "# **Laboratorio 3: Análisis Geoespacial**\n",
    "\n",
    "- Derek Arreaga - 22537\n",
    "- Mónica Salvatierra - 22249"
   ]
  },
  {
   "cell_type": "markdown",
   "id": "c102b634",
   "metadata": {},
   "source": []
  },
  {
   "cell_type": "code",
   "execution_count": 8,
   "id": "269bda6e",
   "metadata": {},
   "outputs": [],
   "source": [
    "import rasterio\n",
    "\n",
    "before_04 = rasterio.open('images/2020/2020-01-01-00_00_2020-12-31-23_59_Sentinel-2_L2A_B04_(Raw).tiff')\n",
    "before_08 =rasterio.open('images/2020/2020-01-01-00_00_2020-12-31-23_59_Sentinel-2_L2A_B08_(Raw).tiff')\n",
    "\n",
    "then_04 = rasterio.open('images/2024/2024-11-01-00_00_2024-12-01-23_59_Sentinel-2_L2A_B04_(Raw).tiff')\n",
    "then_08 = rasterio.open('images/2024/2024-11-01-00_00_2024-12-01-23_59_Sentinel-2_L2A_B08_(Raw).tiff')"
   ]
  },
  {
   "cell_type": "code",
   "execution_count": 14,
   "id": "b661543d",
   "metadata": {},
   "outputs": [
    {
     "name": "stdout",
     "output_type": "stream",
     "text": [
      "[[ 6.0899675e-02  5.2403271e-02  7.7180862e-02 ...  8.3100796e-04\n",
      "   2.9684901e-03  3.2407641e-03]\n",
      " [ 7.1162462e-02  7.0553124e-02  6.2080324e-02 ...  2.5169253e-03\n",
      "   3.7300587e-03 -1.9602776e-03]\n",
      " [ 5.6816816e-02  4.9112856e-02  5.9148073e-02 ...  1.3071179e-02\n",
      "   2.8413534e-03  5.6481361e-03]\n",
      " ...\n",
      " [-9.0496647e-01 -8.4611291e-01 -8.6988646e-01 ... -6.0675085e-01\n",
      "  -5.5332059e-01 -5.7429570e-01]\n",
      " [-6.7676198e-01 -8.7499785e-01 -8.8854128e-01 ... -5.7115799e-01\n",
      "  -5.3538126e-01 -5.2510095e-01]\n",
      " [-8.3536524e-01 -6.9084072e-01 -7.4648404e-01 ... -6.5274411e-01\n",
      "  -5.1407433e-01 -5.6309432e-01]]\n"
     ]
    }
   ],
   "source": [
    "red_2020 = before_04.read(1).astype('float32')\n",
    "nir_2020 = before_08.read(1).astype('float32')\n",
    "\n",
    "red_2024 = then_04.read(1).astype('float32')\n",
    "nir_2024 = then_08.read(1).astype('float32')\n",
    "\n",
    "\n",
    "\n",
    "NDVI_2020 = (nir_2020 - red_2020) / (nir_2020 + red_2020 + 1e-6) \n",
    "\n",
    "NDVI_2024 = (nir_2024 - red_2024) / (nir_2024 + red_2024 + 1e-6) \n",
    "\n",
    "NDVI_diff = NDVI_2024 - NDVI_2020\n",
    "print(NDVI_diff)\n"
   ]
  }
 ],
 "metadata": {
  "kernelspec": {
   "display_name": ".venv",
   "language": "python",
   "name": "python3"
  },
  "language_info": {
   "codemirror_mode": {
    "name": "ipython",
    "version": 3
   },
   "file_extension": ".py",
   "mimetype": "text/x-python",
   "name": "python",
   "nbconvert_exporter": "python",
   "pygments_lexer": "ipython3",
   "version": "3.10.11"
  }
 },
 "nbformat": 4,
 "nbformat_minor": 5
}
