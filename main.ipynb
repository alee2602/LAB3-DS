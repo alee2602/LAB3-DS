{
 "cells": [
  {
   "cell_type": "markdown",
   "id": "d5b45e50",
   "metadata": {},
   "source": [
    "# **Laboratorio 3: Análisis Geoespacial**\n",
    "\n",
    "- Derek Arreaga - 22537\n",
    "- Mónica Salvatierra - 22249"
   ]
  },
  {
   "cell_type": "markdown",
   "id": "c102b634",
   "metadata": {},
   "source": []
  }
 ],
 "metadata": {
  "language_info": {
   "name": "python"
  }
 },
 "nbformat": 4,
 "nbformat_minor": 5
}
