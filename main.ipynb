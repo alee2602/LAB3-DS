{
 "cells": [
  {
   "cell_type": "markdown",
   "id": "d5b45e50",
   "metadata": {},
   "source": [
    "# **Laboratorio 3: Análisis Geoespacial**\n",
    "\n",
    "- Derek Arreaga - 22537\n",
    "- Mónica Salvatierra - 22249"
   ]
  },
  {
   "cell_type": "markdown",
   "id": "c102b634",
   "metadata": {},
   "source": []
  },
  {
   "cell_type": "code",
   "execution_count": 1,
   "id": "269bda6e",
   "metadata": {},
   "outputs": [],
   "source": [
    "import rasterio\n",
    "import matplotlib.pyplot as plt\n",
    "import numpy as np\n",
    "\n",
    "before_04 = rasterio.open('images/2020/2020-01-01-00_00_2020-12-31-23_59_Sentinel-2_L2A_B04_(Raw).tiff')\n",
    "before_08 =rasterio.open('images/2020/2020-01-01-00_00_2020-12-31-23_59_Sentinel-2_L2A_B08_(Raw).tiff')\n",
    "\n",
    "then_04 = rasterio.open('images/2024/2024-02-27-00_00_2024-03-27-23_59_Sentinel-2_L2A_B04_(Raw).tiff')\n",
    "then_08 = rasterio.open('images/2024/2024-02-27-00_00_2024-03-27-23_59_Sentinel-2_L2A_B08_(Raw).tiff')"
   ]
  },
  {
   "cell_type": "code",
   "execution_count": 2,
   "id": "b661543d",
   "metadata": {},
   "outputs": [
    {
     "name": "stdout",
     "output_type": "stream",
     "text": [
      "[[-0.03624153 -0.04426003 -0.02698064 ... -0.11987758 -0.12069106\n",
      "  -0.13698274]\n",
      " [-0.03549063 -0.0240975  -0.04097748 ... -0.13202465 -0.13034868\n",
      "  -0.11464906]\n",
      " [-0.04404038 -0.05737036 -0.04239726 ... -0.11379224 -0.1445939\n",
      "  -0.12110078]\n",
      " ...\n",
      " [-0.00648457  0.02324319  0.00131875 ...  0.0503037   0.01357776\n",
      "  -0.06243289]\n",
      " [ 0.08742297  0.00886542 -0.00881058 ...  0.07706368 -0.03916121\n",
      "   0.00211352]\n",
      " [ 0.03154171  0.06852579  0.06932116 ...  0.05899221  0.06872225\n",
      "   0.13015878]]\n"
     ]
    }
   ],
   "source": [
    "red_2020 = before_04.read(1).astype('float32')\n",
    "nir_2020 = before_08.read(1).astype('float32')\n",
    "\n",
    "red_2024 = then_04.read(1).astype('float32')\n",
    "nir_2024 = then_08.read(1).astype('float32')\n",
    "\n",
    "\n",
    "\n",
    "NDVI_2020 = (nir_2020 - red_2020) / (nir_2020 + red_2020 + 1e-6) \n",
    "\n",
    "NDVI_2024 = (nir_2024 - red_2024) / (nir_2024 + red_2024 + 1e-6) \n",
    "\n",
    "NDVI_diff = NDVI_2024 - NDVI_2020\n",
    "print(NDVI_diff)\n"
   ]
  }
 ],
 "metadata": {
  "kernelspec": {
   "display_name": ".venv",
   "language": "python",
   "name": "python3"
  },
  "language_info": {
   "codemirror_mode": {
    "name": "ipython",
    "version": 3
   },
   "file_extension": ".py",
   "mimetype": "text/x-python",
   "name": "python",
   "nbconvert_exporter": "python",
   "pygments_lexer": "ipython3",
   "version": "3.10.11"
  }
 },
 "nbformat": 4,
 "nbformat_minor": 5
}
